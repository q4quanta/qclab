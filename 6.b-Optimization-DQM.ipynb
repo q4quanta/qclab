{
 "cells": [
  {
   "cell_type": "markdown",
   "metadata": {},
   "source": [
    "# Discrete Quadratic Models\n",
    "The discrete quadratic model (DQM) is a polynomial over discrete variables with terms all of degree two or less, represented by equation,\n",
    "\n",
    "$$ E(\\bf{v})\n",
    "= \\sum_{i=1} a_i v_i\n",
    "+ \\sum_{i<j} b_{i,j} v_i v_j\n",
    "+ c\n",
    "\\qquad\\qquad v_i \\in\\{A, B, C, ...\\}$$\n",
    "\n",
    "where {𝐴,𝐵,𝐶,...} are some set of discrete values such {red, green, blue, yellow} or {3.2, 67}."
   ]
  },
  {
   "cell_type": "markdown",
   "metadata": {},
   "source": [
    "Quadratic unconstrained binary optimization (QUBO) is a pattern matching technique, common in machine learning applications. QUBO is an NP hard problem. Examples of problems that can be formulated as QUBO problems are the Maximum cut, Graph coloring and the Partition problem. QUBO problems may sometimes be well-suited to algorithms aided by quantum annealing\n",
    "\n",
    "[Examples](https://arxiv.org/ftp/arxiv/papers/1811/1811.11538.pdf)\n",
    "\n",
    "[Dimod Documents](https://readthedocs.com/projects/d-wave-systems-dimod/downloads/pdf/latest/)\n",
    "\n",
    "[Japan Tutorial](https://tc3-japan.github.io/DA_tutorial/tutorial-1-sudoku.html)"
   ]
  },
  {
   "cell_type": "code",
   "execution_count": 5,
   "metadata": {},
   "outputs": [],
   "source": [
    "#pip install dwave-ocean-sdk"
   ]
  },
  {
   "cell_type": "code",
   "execution_count": 6,
   "metadata": {},
   "outputs": [],
   "source": [
    "import numpy as np\n",
    "import dimod"
   ]
  },
  {
   "cell_type": "code",
   "execution_count": 7,
   "metadata": {},
   "outputs": [
    {
     "ename": "AttributeError",
     "evalue": "module 'dimod' has no attribute 'DiscreteQuadraticModel'",
     "output_type": "error",
     "traceback": [
      "\u001b[0;31m---------------------------------------------------------------------------\u001b[0m",
      "\u001b[0;31mAttributeError\u001b[0m                            Traceback (most recent call last)",
      "\u001b[0;32m<ipython-input-7-e06c88fe4524>\u001b[0m in \u001b[0;36m<module>\u001b[0;34m\u001b[0m\n\u001b[1;32m      7\u001b[0m \u001b[0mcolors\u001b[0m \u001b[0;34m=\u001b[0m \u001b[0;34m[\u001b[0m\u001b[0;36m0\u001b[0m\u001b[0;34m,\u001b[0m \u001b[0;36m1\u001b[0m\u001b[0;34m,\u001b[0m \u001b[0;36m2\u001b[0m\u001b[0;34m,\u001b[0m \u001b[0;36m3\u001b[0m\u001b[0;34m]\u001b[0m\u001b[0;34m\u001b[0m\u001b[0;34m\u001b[0m\u001b[0m\n\u001b[1;32m      8\u001b[0m \u001b[0;34m\u001b[0m\u001b[0m\n\u001b[0;32m----> 9\u001b[0;31m \u001b[0mdqm\u001b[0m \u001b[0;34m=\u001b[0m \u001b[0mdimod\u001b[0m\u001b[0;34m.\u001b[0m\u001b[0mDiscreteQuadraticModel\u001b[0m\u001b[0;34m(\u001b[0m\u001b[0;34m)\u001b[0m\u001b[0;34m\u001b[0m\u001b[0;34m\u001b[0m\u001b[0m\n\u001b[0m\u001b[1;32m     10\u001b[0m \u001b[0;32mfor\u001b[0m \u001b[0mp\u001b[0m \u001b[0;32min\u001b[0m \u001b[0mprovinces\u001b[0m\u001b[0;34m:\u001b[0m\u001b[0;34m\u001b[0m\u001b[0;34m\u001b[0m\u001b[0m\n\u001b[1;32m     11\u001b[0m      \u001b[0m_\u001b[0m \u001b[0;34m=\u001b[0m \u001b[0mdqm\u001b[0m\u001b[0;34m.\u001b[0m\u001b[0madd_variable\u001b[0m\u001b[0;34m(\u001b[0m\u001b[0;36m4\u001b[0m\u001b[0;34m,\u001b[0m \u001b[0mlabel\u001b[0m\u001b[0;34m=\u001b[0m\u001b[0mp\u001b[0m\u001b[0;34m)\u001b[0m\u001b[0;34m\u001b[0m\u001b[0;34m\u001b[0m\u001b[0m\n",
      "\u001b[0;31mAttributeError\u001b[0m: module 'dimod' has no attribute 'DiscreteQuadraticModel'"
     ]
    }
   ],
   "source": [
    "# Copyright 2020 D-Wave Systems Inc.\n",
    "#\n",
    "# Licensed under the Apache License, Version 2.0 (the \"License\");\n",
    "# you may not use this file except in compliance with the License.\n",
    "# You may obtain a copy of the License at\n",
    "#\n",
    "#     http://www.apache.org/licenses/LICENSE-2.0\n",
    "#\n",
    "# Unless required by applicable law or agreed to in writing, software\n",
    "# distributed under the License is distributed on an \"AS IS\" BASIS,\n",
    "# WITHOUT WARRANTIES OR CONDITIONS OF ANY KIND, either express or implied.\n",
    "# See the License for the specific language governing permissions and\n",
    "# limitations under the License.\n",
    "\n",
    "import networkx as nx\n",
    "from dimod import DiscreteQuadraticModel\n",
    "from dwave.system import LeapHybridDQMSampler\n",
    "\n",
    "# Graph coloring with DQM solver\n",
    "\n",
    "# input: number of colors in the graph\n",
    "# the four-color theorem indicates that four colors suffice for any planar\n",
    "# graph\n",
    "num_colors = 4\n",
    "colors = range(num_colors)\n",
    "\n",
    "# Initialize the DQM object\n",
    "dqm = DiscreteQuadraticModel()\n",
    "\n",
    "# Make Networkx graph of a hexagon\n",
    "G = nx.Graph()\n",
    "G.add_edges_from([(0, 1), (1, 2), (2, 3), (3, 4), (4, 5), (5, 6), (0, 6)])\n",
    "n_edges = len(G.edges)\n",
    "\n",
    "# initial value of Lagrange parameter\n",
    "lagrange = max(colors)\n",
    "\n",
    "# Load the DQM. Define the variables, and then set biases and weights.\n",
    "# We set the linear biases to favor lower-numbered colors; this will\n",
    "# have the effect of minimizing the number of colors used.\n",
    "# We penalize edge connections by the Lagrange parameter, to encourage\n",
    "# connected nodes to have different colors.\n",
    "for p in G.nodes:\n",
    "    dqm.add_variable(num_colors, label=p)\n",
    "for p in G.nodes:\n",
    "    dqm.set_linear(p, colors)\n",
    "for p0, p1 in G.edges:\n",
    "    dqm.set_quadratic(p0, p1, {(c, c): lagrange for c in colors})\n",
    "\n",
    "# Initialize the DQM solver\n",
    "sampler = LeapHybridDQMSampler()\n",
    "\n",
    "# Solve the problem using the DQM solver\n",
    "sampleset = sampler.sample_dqm(dqm)\n",
    "\n",
    "# get the first solution, and print it\n",
    "sample = sampleset.first.sample\n",
    "energy = sampleset.first.energy\n",
    "\n",
    "# check that colors are different\n",
    "valid = True\n",
    "for edge in G.edges:\n",
    "    i, j = edge\n",
    "    if sample[i] == sample[j]:\n",
    "        valid = False\n",
    "        break\n",
    "print(\"Solution: \", sample)\n",
    "print(\"Solution energy: \", energy)\n",
    "print(\"Solution validity: \", valid)\n"
   ]
  },
  {
   "cell_type": "code",
   "execution_count": null,
   "metadata": {},
   "outputs": [],
   "source": []
  },
  {
   "cell_type": "code",
   "execution_count": null,
   "metadata": {},
   "outputs": [],
   "source": []
  },
  {
   "cell_type": "code",
   "execution_count": null,
   "metadata": {},
   "outputs": [],
   "source": []
  },
  {
   "cell_type": "code",
   "execution_count": null,
   "metadata": {},
   "outputs": [],
   "source": []
  },
  {
   "cell_type": "code",
   "execution_count": null,
   "metadata": {},
   "outputs": [],
   "source": []
  }
 ],
 "metadata": {
  "kernelspec": {
   "display_name": "Python 3",
   "language": "python",
   "name": "python3"
  },
  "language_info": {
   "codemirror_mode": {
    "name": "ipython",
    "version": 3
   },
   "file_extension": ".py",
   "mimetype": "text/x-python",
   "name": "python",
   "nbconvert_exporter": "python",
   "pygments_lexer": "ipython3",
   "version": "3.7.6"
  }
 },
 "nbformat": 4,
 "nbformat_minor": 2
}
