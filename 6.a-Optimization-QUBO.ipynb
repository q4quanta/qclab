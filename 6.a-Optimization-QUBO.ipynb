{
 "cells": [
  {
   "cell_type": "markdown",
   "metadata": {},
   "source": [
    "# Quadratic Unconstrained Binary Optimization (QUBO)"
   ]
  },
  {
   "cell_type": "markdown",
   "metadata": {},
   "source": [
    "Quadratic unconstrained binary optimization (QUBO) is a pattern matching technique, common in machine learning applications. QUBO is an NP hard problem. Examples of problems that can be formulated as QUBO problems are the Maximum cut, Graph coloring and the Partition problem. QUBO problems may sometimes be well-suited to algorithms aided by quantum annealing\n",
    "\n",
    "[Examples](https://arxiv.org/ftp/arxiv/papers/1811/1811.11538.pdf)\n",
    "\n",
    "[Dimod Documents](https://readthedocs.com/projects/d-wave-systems-dimod/downloads/pdf/latest/)\n",
    "\n",
    "[Japan Tutorial](https://tc3-japan.github.io/DA_tutorial/tutorial-1-sudoku.html)"
   ]
  },
  {
   "cell_type": "code",
   "execution_count": 6,
   "metadata": {},
   "outputs": [],
   "source": [
    "#pip install dwave-ocean-sdk"
   ]
  },
  {
   "cell_type": "code",
   "execution_count": 7,
   "metadata": {},
   "outputs": [],
   "source": [
    "import numpy as np\n",
    "import dimod"
   ]
  },
  {
   "cell_type": "markdown",
   "metadata": {},
   "source": [
    "The QUBO form, $E(𝑎_𝑖, 𝑏_{𝑖,𝑗} ; 𝑞_{𝑖}) = −𝑞_1 − 𝑞_2 + 2𝑞_1 𝑞_2$ , is related to the Ising form, \n",
    "\n",
    "$E(ℎ_𝑖, 𝑗_{𝑖,𝑗}; 𝑠_𝑖) = \\frac{1}{2} (𝑠_1𝑠_2 − 1)$, via\n",
    "\n",
    "the simple manipulation $𝑠_𝑖 = 2𝑞_𝑖 − 1$.\n"
   ]
  },
  {
   "cell_type": "code",
   "execution_count": 8,
   "metadata": {},
   "outputs": [],
   "source": [
    "bqm = dimod.BinaryQuadraticModel({0: -1, 1: -1}, {(0, 1): 2}, 0.0, dimod.BINARY)\n",
    "bqm_ising = bqm.change_vartype(dimod.SPIN, inplace=False)"
   ]
  },
  {
   "cell_type": "code",
   "execution_count": 9,
   "metadata": {},
   "outputs": [],
   "source": [
    "response = dimod.ExactSolver().sample(bqm)"
   ]
  },
  {
   "cell_type": "code",
   "execution_count": 10,
   "metadata": {},
   "outputs": [
    {
     "name": "stdout",
     "output_type": "stream",
     "text": [
      "{0: 1, 1: 0} -1.0\n",
      "{0: 0, 1: 1} -1.0\n",
      "{0: 0, 1: 0} 0.0\n",
      "{0: 1, 1: 1} 0.0\n"
     ]
    }
   ],
   "source": [
    "for sample, energy in response.data(['sample', 'energy']):\n",
    "    print(sample, energy)"
   ]
  },
  {
   "cell_type": "markdown",
   "metadata": {},
   "source": [
    "### 1. Minimize"
   ]
  },
  {
   "cell_type": "markdown",
   "metadata": {},
   "source": [
    "$y = -5x_1 -3x_2 - 8x_3 - 6x_4 + 4x_1x_2 + 8x_1x_3 + 2x_2x_3 + 10x_3x_4$"
   ]
  },
  {
   "cell_type": "code",
   "execution_count": 11,
   "metadata": {},
   "outputs": [],
   "source": [
    "linear = {0:-5,1:-3,2:-8,3:-6}\n",
    "quadratic = {(0,1):4, (0,2):8,(1,2):2,(2,3):10}"
   ]
  },
  {
   "cell_type": "code",
   "execution_count": 12,
   "metadata": {},
   "outputs": [],
   "source": [
    "bqm = dimod.BinaryQuadraticModel(linear, quadratic, 0.0, dimod.BINARY)\n",
    "response = dimod.ExactSolver().sample(bqm)"
   ]
  },
  {
   "cell_type": "code",
   "execution_count": 13,
   "metadata": {},
   "outputs": [
    {
     "name": "stdout",
     "output_type": "stream",
     "text": [
      "{0: 1, 1: 0, 2: 0, 3: 1} -11.0\n",
      "{0: 1, 1: 1, 2: 0, 3: 1} -10.0\n",
      "{0: 0, 1: 1, 2: 1, 3: 0} -9.0\n",
      "{0: 0, 1: 1, 2: 0, 3: 1} -9.0\n",
      "{0: 0, 1: 0, 2: 1, 3: 0} -8.0\n",
      "{0: 0, 1: 0, 2: 0, 3: 1} -6.0\n",
      "{0: 1, 1: 0, 2: 0, 3: 0} -5.0\n",
      "{0: 1, 1: 0, 2: 1, 3: 0} -5.0\n",
      "{0: 0, 1: 1, 2: 1, 3: 1} -5.0\n",
      "{0: 1, 1: 1, 2: 0, 3: 0} -4.0\n",
      "{0: 0, 1: 0, 2: 1, 3: 1} -4.0\n",
      "{0: 0, 1: 1, 2: 0, 3: 0} -3.0\n",
      "{0: 1, 1: 1, 2: 1, 3: 0} -2.0\n",
      "{0: 1, 1: 0, 2: 1, 3: 1} -1.0\n",
      "{0: 0, 1: 0, 2: 0, 3: 0} 0.0\n",
      "{0: 1, 1: 1, 2: 1, 3: 1} 2.0\n"
     ]
    }
   ],
   "source": [
    "for sample, energy in response.data(['sample', 'energy']):\n",
    "    print(sample, energy)"
   ]
  },
  {
   "cell_type": "markdown",
   "metadata": {},
   "source": [
    "### 2. K4 Compete Graph"
   ]
  },
  {
   "cell_type": "markdown",
   "metadata": {},
   "source": [
    "![img](https://mathworld.wolfram.com/images/eps-gif/CompleteGraphs_801.gif)"
   ]
  },
  {
   "cell_type": "markdown",
   "metadata": {},
   "source": [
    "Solving problems with large numbers of variables might necessitate the use of decomposition methods such as branch-and-bound to reduce the number of variables. The following illustrative example reduces an Ising model for a small problem (the K4 complete graph), and converts the reduced-variables model to QUBO formulation."
   ]
  },
  {
   "cell_type": "code",
   "execution_count": 14,
   "metadata": {},
   "outputs": [],
   "source": [
    "import dimod\n",
    "linear = {1: 1, 2: 2, 3: 3, 4: 4}\n",
    "quadratic = {(1, 2): 12,\n",
    "             (1, 3): 13,\n",
    "             (1, 4): 14,\n",
    "             (2, 3): 23,\n",
    "             (2, 4): 24,\n",
    "             (3, 4): 34}\n",
    "offset = 0.0\n",
    "vartype = dimod.SPIN\n",
    "bqm_k4 = dimod.BinaryQuadraticModel(linear, quadratic, offset, vartype)"
   ]
  },
  {
   "cell_type": "code",
   "execution_count": 49,
   "metadata": {},
   "outputs": [
    {
     "data": {
      "text/plain": [
       "True"
      ]
     },
     "execution_count": 49,
     "metadata": {},
     "output_type": "execute_result"
    }
   ],
   "source": [
    "bqm_k4.info = {'Complete K4 binary quadratic model.'}\n",
    "bqm_k4.info.issubset({'Complete K3 binary quadratic model.',\n",
    "                     'Complete K4 binary quadratic model.',\n",
    "                     'Complete K5 binary quadratic model.'})"
   ]
  },
  {
   "cell_type": "code",
   "execution_count": 50,
   "metadata": {},
   "outputs": [
    {
     "data": {
      "text/plain": [
       "<ShapeableNeighbour: {1: 12, 3: 23, 4: 24}>"
      ]
     },
     "execution_count": 50,
     "metadata": {},
     "output_type": "execute_result"
    }
   ],
   "source": [
    "bqm_k4.adj[2]"
   ]
  },
  {
   "cell_type": "code",
   "execution_count": 51,
   "metadata": {},
   "outputs": [
    {
     "data": {
      "text/plain": [
       "23"
      ]
     },
     "execution_count": 51,
     "metadata": {},
     "output_type": "execute_result"
    }
   ],
   "source": [
    "bqm_k4.adj[2][3]"
   ]
  },
  {
   "cell_type": "code",
   "execution_count": 52,
   "metadata": {},
   "outputs": [
    {
     "data": {
      "text/plain": [
       "<Vartype.SPIN: frozenset({1, -1})>"
      ]
     },
     "execution_count": 52,
     "metadata": {},
     "output_type": "execute_result"
    }
   ],
   "source": [
    "bqm_k4.vartype"
   ]
  },
  {
   "cell_type": "code",
   "execution_count": 53,
   "metadata": {},
   "outputs": [
    {
     "data": {
      "text/plain": [
       "4"
      ]
     },
     "execution_count": 53,
     "metadata": {},
     "output_type": "execute_result"
    }
   ],
   "source": [
    "len(bqm_k4.linear)"
   ]
  },
  {
   "cell_type": "code",
   "execution_count": 54,
   "metadata": {},
   "outputs": [],
   "source": [
    "response = dimod.ExactSolver().sample(bqm_k4)"
   ]
  },
  {
   "cell_type": "code",
   "execution_count": 29,
   "metadata": {},
   "outputs": [
    {
     "name": "stdout",
     "output_type": "stream",
     "text": [
      "{0: 0, 1: 1, 2: 1, 3: 1, 4: 1, 5: 1, 6: 0, 7: 1, 8: 0, 9: 1, 10: 0, 11: 1, 12: 0, 13: 1, 14: 1, 15: 0, 16: 0} -72630.0\n"
     ]
    }
   ],
   "source": [
    "for sample, energy in response.data(['sample', 'energy']):\n",
    "    print(sample, energy)\n",
    "    break"
   ]
  },
  {
   "cell_type": "code",
   "execution_count": 21,
   "metadata": {},
   "outputs": [
    {
     "data": {
      "text/plain": [
       "3"
      ]
     },
     "execution_count": 21,
     "metadata": {},
     "output_type": "execute_result"
    }
   ],
   "source": [
    "bqm_k4.contract_variables(2, 3)\n",
    "len(bqm_k4.linear)"
   ]
  },
  {
   "cell_type": "code",
   "execution_count": 22,
   "metadata": {},
   "outputs": [],
   "source": [
    "bqm_no3_qubo = bqm_k4.binary"
   ]
  },
  {
   "cell_type": "code",
   "execution_count": 23,
   "metadata": {},
   "outputs": [
    {
     "data": {
      "text/plain": [
       "<Vartype.BINARY: frozenset({0, 1})>"
      ]
     },
     "execution_count": 23,
     "metadata": {},
     "output_type": "execute_result"
    }
   ],
   "source": [
    "bqm_no3_qubo.vartype"
   ]
  },
  {
   "cell_type": "markdown",
   "metadata": {},
   "source": [
    "### 3. Number Partition Problem"
   ]
  },
  {
   "cell_type": "markdown",
   "metadata": {},
   "source": [
    "In number theory and computer science, the partition problem, or number partitioning, is the task of deciding whether a given multiset S of positive integers can be partitioned into two subsets S1 and S2 such that the sum of the numbers in S1 equals the sum of the numbers in S2. Although the partition problem is NP-complete, there is a pseudo-polynomial time dynamic programming solution, and there are heuristics that solve the problem in many instances, either optimally or approximately. For this reason, it has been called \"the easiest hard problem\".\n",
    "\n",
    "There is an optimization version of the partition problem, which is to partition the multiset S into two subsets S1, S2 such that the difference between the sum of elements in S1 and the sum of elements in S2 is minimized. The optimization version is NP-hard, but can be solved efficiently in practice"
   ]
  },
  {
   "cell_type": "code",
   "execution_count": 31,
   "metadata": {},
   "outputs": [
    {
     "data": {
      "text/plain": [
       "17"
      ]
     },
     "execution_count": 31,
     "metadata": {},
     "output_type": "execute_result"
    }
   ],
   "source": [
    "S =[25, 7,13, 31,23,12,45,45,67,24,34,56,67,42,17, 21,10]\n",
    "len(S)"
   ]
  },
  {
   "cell_type": "code",
   "execution_count": 23,
   "metadata": {},
   "outputs": [
    {
     "data": {
      "text/plain": [
       "539"
      ]
     },
     "execution_count": 23,
     "metadata": {},
     "output_type": "execute_result"
    }
   ],
   "source": [
    "c = sum(S)\n",
    "c "
   ]
  },
  {
   "cell_type": "code",
   "execution_count": 24,
   "metadata": {},
   "outputs": [],
   "source": [
    "Q = np.zeros([len(S),len(S)])"
   ]
  },
  {
   "cell_type": "code",
   "execution_count": 25,
   "metadata": {},
   "outputs": [],
   "source": [
    "for i in range(len(S)):\n",
    "    for j in range(len(S)):\n",
    "        if i ==j:\n",
    "            Q[i,i] = S[i]*(S[i] -c)\n",
    "        else:\n",
    "            Q[i,j] = S[i]*S[j]"
   ]
  },
  {
   "cell_type": "code",
   "execution_count": 26,
   "metadata": {},
   "outputs": [
    {
     "data": {
      "text/plain": [
       "array([[-12850.,    175.,    325.,    775.,    575.,    300.,   1125.,\n",
       "          1125.,   1675.,    600.,    850.,   1400.,   1675.,   1050.,\n",
       "           425.,    525.,    250.],\n",
       "       [   175.,  -3724.,     91.,    217.,    161.,     84.,    315.,\n",
       "           315.,    469.,    168.,    238.,    392.,    469.,    294.,\n",
       "           119.,    147.,     70.],\n",
       "       [   325.,     91.,  -6838.,    403.,    299.,    156.,    585.,\n",
       "           585.,    871.,    312.,    442.,    728.,    871.,    546.,\n",
       "           221.,    273.,    130.],\n",
       "       [   775.,    217.,    403., -15748.,    713.,    372.,   1395.,\n",
       "          1395.,   2077.,    744.,   1054.,   1736.,   2077.,   1302.,\n",
       "           527.,    651.,    310.],\n",
       "       [   575.,    161.,    299.,    713., -11868.,    276.,   1035.,\n",
       "          1035.,   1541.,    552.,    782.,   1288.,   1541.,    966.,\n",
       "           391.,    483.,    230.],\n",
       "       [   300.,     84.,    156.,    372.,    276.,  -6324.,    540.,\n",
       "           540.,    804.,    288.,    408.,    672.,    804.,    504.,\n",
       "           204.,    252.,    120.],\n",
       "       [  1125.,    315.,    585.,   1395.,   1035.,    540., -22230.,\n",
       "          2025.,   3015.,   1080.,   1530.,   2520.,   3015.,   1890.,\n",
       "           765.,    945.,    450.],\n",
       "       [  1125.,    315.,    585.,   1395.,   1035.,    540.,   2025.,\n",
       "        -22230.,   3015.,   1080.,   1530.,   2520.,   3015.,   1890.,\n",
       "           765.,    945.,    450.],\n",
       "       [  1675.,    469.,    871.,   2077.,   1541.,    804.,   3015.,\n",
       "          3015., -31624.,   1608.,   2278.,   3752.,   4489.,   2814.,\n",
       "          1139.,   1407.,    670.],\n",
       "       [   600.,    168.,    312.,    744.,    552.,    288.,   1080.,\n",
       "          1080.,   1608., -12360.,    816.,   1344.,   1608.,   1008.,\n",
       "           408.,    504.,    240.],\n",
       "       [   850.,    238.,    442.,   1054.,    782.,    408.,   1530.,\n",
       "          1530.,   2278.,    816., -17170.,   1904.,   2278.,   1428.,\n",
       "           578.,    714.,    340.],\n",
       "       [  1400.,    392.,    728.,   1736.,   1288.,    672.,   2520.,\n",
       "          2520.,   3752.,   1344.,   1904., -27048.,   3752.,   2352.,\n",
       "           952.,   1176.,    560.],\n",
       "       [  1675.,    469.,    871.,   2077.,   1541.,    804.,   3015.,\n",
       "          3015.,   4489.,   1608.,   2278.,   3752., -31624.,   2814.,\n",
       "          1139.,   1407.,    670.],\n",
       "       [  1050.,    294.,    546.,   1302.,    966.,    504.,   1890.,\n",
       "          1890.,   2814.,   1008.,   1428.,   2352.,   2814., -20874.,\n",
       "           714.,    882.,    420.],\n",
       "       [   425.,    119.,    221.,    527.,    391.,    204.,    765.,\n",
       "           765.,   1139.,    408.,    578.,    952.,   1139.,    714.,\n",
       "         -8874.,    357.,    170.],\n",
       "       [   525.,    147.,    273.,    651.,    483.,    252.,    945.,\n",
       "           945.,   1407.,    504.,    714.,   1176.,   1407.,    882.,\n",
       "           357., -10878.,    210.],\n",
       "       [   250.,     70.,    130.,    310.,    230.,    120.,    450.,\n",
       "           450.,    670.,    240.,    340.,    560.,    670.,    420.,\n",
       "           170.,    210.,  -5290.]])"
      ]
     },
     "execution_count": 26,
     "metadata": {},
     "output_type": "execute_result"
    }
   ],
   "source": [
    "Q"
   ]
  },
  {
   "cell_type": "code",
   "execution_count": 27,
   "metadata": {},
   "outputs": [],
   "source": [
    "vartype = dimod.BINARY\n",
    "npp = dimod.BinaryQuadraticModel.from_numpy_matrix(Q,\\\n",
    "                    variable_order=None, offset=0.0, interactions=None)"
   ]
  },
  {
   "cell_type": "code",
   "execution_count": null,
   "metadata": {},
   "outputs": [],
   "source": [
    "#S =[25, 7,13, 31, 42,17, 21,10]"
   ]
  },
  {
   "cell_type": "code",
   "execution_count": 30,
   "metadata": {
    "scrolled": false
   },
   "outputs": [
    {
     "name": "stdout",
     "output_type": "stream",
     "text": [
      "{0: 0, 1: 1, 2: 1, 3: 1, 4: 1, 5: 1, 6: 0, 7: 1, 8: 0, 9: 1, 10: 0, 11: 1, 12: 0, 13: 1, 14: 1, 15: 0, 16: 0} -72630.0\n"
     ]
    }
   ],
   "source": [
    "response = dimod.ExactSolver().sample(npp)\n",
    "for sample, energy in response.data(['sample', 'energy']):\n",
    "    print(sample, energy)\n",
    "    break"
   ]
  },
  {
   "cell_type": "markdown",
   "metadata": {},
   "source": [
    "------------"
   ]
  },
  {
   "cell_type": "code",
   "execution_count": null,
   "metadata": {},
   "outputs": [],
   "source": []
  },
  {
   "cell_type": "code",
   "execution_count": null,
   "metadata": {},
   "outputs": [],
   "source": []
  },
  {
   "cell_type": "code",
   "execution_count": null,
   "metadata": {},
   "outputs": [],
   "source": []
  }
 ],
 "metadata": {
  "kernelspec": {
   "display_name": "Python 3",
   "language": "python",
   "name": "python3"
  },
  "language_info": {
   "codemirror_mode": {
    "name": "ipython",
    "version": 3
   },
   "file_extension": ".py",
   "mimetype": "text/x-python",
   "name": "python",
   "nbconvert_exporter": "python",
   "pygments_lexer": "ipython3",
   "version": "3.7.6"
  }
 },
 "nbformat": 4,
 "nbformat_minor": 2
}
